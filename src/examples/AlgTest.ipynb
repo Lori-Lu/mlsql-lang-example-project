{
    "cells": [
        {
            "cell_type": "code",
            "execution_count": 1,
            "source": [
                "from sklearn.datasets import load_breast_cancer\n",
                "train_x, train_y = load_breast_cancer(return_X_y=True)\n"
            ],
            "outputs": [],
            "metadata": {}
        },
        {
            "cell_type": "code",
            "execution_count": 10,
            "source": [
                "rows = [row for row in zip(train_x.tolist(),train_y.tolist())]\n",
                "wow[0]"
            ],
            "outputs": [
                {
                    "output_type": "execute_result",
                    "data": {
                        "text/plain": [
                            "([17.99,\n",
                            "  10.38,\n",
                            "  122.8,\n",
                            "  1001.0,\n",
                            "  0.1184,\n",
                            "  0.2776,\n",
                            "  0.3001,\n",
                            "  0.1471,\n",
                            "  0.2419,\n",
                            "  0.07871,\n",
                            "  1.095,\n",
                            "  0.9053,\n",
                            "  8.589,\n",
                            "  153.4,\n",
                            "  0.006399,\n",
                            "  0.04904,\n",
                            "  0.05373,\n",
                            "  0.01587,\n",
                            "  0.03003,\n",
                            "  0.006193,\n",
                            "  25.38,\n",
                            "  17.33,\n",
                            "  184.6,\n",
                            "  2019.0,\n",
                            "  0.1622,\n",
                            "  0.6656,\n",
                            "  0.7119,\n",
                            "  0.2654,\n",
                            "  0.4601,\n",
                            "  0.1189],\n",
                            " 0)"
                        ]
                    },
                    "metadata": {},
                    "execution_count": 10
                }
            ],
            "metadata": {}
        },
        {
            "cell_type": "code",
            "execution_count": 1,
            "source": [
                "\"abc\".strip(\"a\")"
            ],
            "outputs": [
                {
                    "output_type": "execute_result",
                    "data": {
                        "text/plain": [
                            "'bc'"
                        ]
                    },
                    "metadata": {},
                    "execution_count": 1
                }
            ],
            "metadata": {}
        }
    ],
    "metadata": {
        "orig_nbformat": 4,
        "language_info": {
            "name": "python",
            "version": "3.6.2",
            "mimetype": "text/x-python",
            "codemirror_mode": {
                "name": "ipython",
                "version": 3
            },
            "pygments_lexer": "ipython3",
            "nbconvert_exporter": "python",
            "file_extension": ".py"
        },
        "kernelspec": {
            "name": "python3",
            "display_name": "Python 3.6.2 64-bit ('ray1.7.0': conda)"
        },
        "interpreter": {
            "hash": "b02f6e82e7bee8c606504cf57a547fd584b70e35f040a81b527e65a937307ed6"
        }
    },
    "nbformat": 4,
    "nbformat_minor": 2
}